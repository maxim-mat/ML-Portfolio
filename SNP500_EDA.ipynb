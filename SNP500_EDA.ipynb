{
 "cells": [
  {
   "cell_type": "code",
   "execution_count": 1,
   "metadata": {},
   "outputs": [],
   "source": [
    "import pandas as pd\n",
    "import matplotlib.pyplot as plt"
   ]
  },
  {
   "cell_type": "code",
   "execution_count": 3,
   "metadata": {},
   "outputs": [
    {
     "data": {
      "text/html": [
       "<div>\n",
       "<style scoped>\n",
       "    .dataframe tbody tr th:only-of-type {\n",
       "        vertical-align: middle;\n",
       "    }\n",
       "\n",
       "    .dataframe tbody tr th {\n",
       "        vertical-align: top;\n",
       "    }\n",
       "\n",
       "    .dataframe thead th {\n",
       "        text-align: right;\n",
       "    }\n",
       "</style>\n",
       "<table border=\"1\" class=\"dataframe\">\n",
       "  <thead>\n",
       "    <tr style=\"text-align: right;\">\n",
       "      <th></th>\n",
       "      <th>Date</th>\n",
       "      <th>A</th>\n",
       "      <th>AAL</th>\n",
       "      <th>AAP</th>\n",
       "      <th>AAPL</th>\n",
       "      <th>ABBV</th>\n",
       "      <th>ABC</th>\n",
       "      <th>ABMD</th>\n",
       "      <th>ABT</th>\n",
       "      <th>ACN</th>\n",
       "      <th>...</th>\n",
       "      <th>XEL</th>\n",
       "      <th>XLNX</th>\n",
       "      <th>XOM</th>\n",
       "      <th>XRAY</th>\n",
       "      <th>XYL</th>\n",
       "      <th>YUM</th>\n",
       "      <th>ZBH</th>\n",
       "      <th>ZBRA</th>\n",
       "      <th>ZION</th>\n",
       "      <th>ZTS</th>\n",
       "    </tr>\n",
       "  </thead>\n",
       "  <tbody>\n",
       "    <tr>\n",
       "      <th>0</th>\n",
       "      <td>2011-07-14</td>\n",
       "      <td>30.979713</td>\n",
       "      <td>7.202545</td>\n",
       "      <td>54.759651</td>\n",
       "      <td>10.987410</td>\n",
       "      <td>NaN</td>\n",
       "      <td>36.020863</td>\n",
       "      <td>16.340000</td>\n",
       "      <td>20.749693</td>\n",
       "      <td>49.920250</td>\n",
       "      <td>...</td>\n",
       "      <td>17.142260</td>\n",
       "      <td>27.133936</td>\n",
       "      <td>55.470863</td>\n",
       "      <td>36.702957</td>\n",
       "      <td>NaN</td>\n",
       "      <td>33.548767</td>\n",
       "      <td>58.876469</td>\n",
       "      <td>41.520000</td>\n",
       "      <td>20.009031</td>\n",
       "      <td>NaN</td>\n",
       "    </tr>\n",
       "    <tr>\n",
       "      <th>1</th>\n",
       "      <td>2011-07-15</td>\n",
       "      <td>30.816076</td>\n",
       "      <td>7.013996</td>\n",
       "      <td>53.733215</td>\n",
       "      <td>11.206989</td>\n",
       "      <td>NaN</td>\n",
       "      <td>35.824635</td>\n",
       "      <td>16.389999</td>\n",
       "      <td>20.702850</td>\n",
       "      <td>49.813557</td>\n",
       "      <td>...</td>\n",
       "      <td>17.142260</td>\n",
       "      <td>27.093481</td>\n",
       "      <td>55.983479</td>\n",
       "      <td>36.806068</td>\n",
       "      <td>NaN</td>\n",
       "      <td>33.036930</td>\n",
       "      <td>58.710533</td>\n",
       "      <td>41.810001</td>\n",
       "      <td>20.183245</td>\n",
       "      <td>NaN</td>\n",
       "    </tr>\n",
       "    <tr>\n",
       "      <th>2</th>\n",
       "      <td>2011-07-18</td>\n",
       "      <td>29.755713</td>\n",
       "      <td>6.627473</td>\n",
       "      <td>53.084412</td>\n",
       "      <td>11.479702</td>\n",
       "      <td>NaN</td>\n",
       "      <td>35.150635</td>\n",
       "      <td>16.400000</td>\n",
       "      <td>20.507687</td>\n",
       "      <td>49.222694</td>\n",
       "      <td>...</td>\n",
       "      <td>16.949644</td>\n",
       "      <td>26.931633</td>\n",
       "      <td>55.747433</td>\n",
       "      <td>36.243568</td>\n",
       "      <td>NaN</td>\n",
       "      <td>32.644135</td>\n",
       "      <td>58.286407</td>\n",
       "      <td>42.060001</td>\n",
       "      <td>19.852234</td>\n",
       "      <td>NaN</td>\n",
       "    </tr>\n",
       "    <tr>\n",
       "      <th>3</th>\n",
       "      <td>2011-07-19</td>\n",
       "      <td>30.724440</td>\n",
       "      <td>6.608617</td>\n",
       "      <td>53.733215</td>\n",
       "      <td>11.573372</td>\n",
       "      <td>NaN</td>\n",
       "      <td>35.705189</td>\n",
       "      <td>17.100000</td>\n",
       "      <td>20.644304</td>\n",
       "      <td>50.552151</td>\n",
       "      <td>...</td>\n",
       "      <td>17.113718</td>\n",
       "      <td>27.263426</td>\n",
       "      <td>56.408432</td>\n",
       "      <td>36.965450</td>\n",
       "      <td>NaN</td>\n",
       "      <td>32.828632</td>\n",
       "      <td>58.553772</td>\n",
       "      <td>42.730000</td>\n",
       "      <td>19.721571</td>\n",
       "      <td>NaN</td>\n",
       "    </tr>\n",
       "    <tr>\n",
       "      <th>4</th>\n",
       "      <td>2011-07-20</td>\n",
       "      <td>30.711353</td>\n",
       "      <td>6.504916</td>\n",
       "      <td>53.297459</td>\n",
       "      <td>11.882014</td>\n",
       "      <td>NaN</td>\n",
       "      <td>35.619877</td>\n",
       "      <td>16.680000</td>\n",
       "      <td>20.453043</td>\n",
       "      <td>50.379814</td>\n",
       "      <td>...</td>\n",
       "      <td>17.292061</td>\n",
       "      <td>26.850712</td>\n",
       "      <td>56.185863</td>\n",
       "      <td>36.581070</td>\n",
       "      <td>NaN</td>\n",
       "      <td>32.340599</td>\n",
       "      <td>58.876469</td>\n",
       "      <td>42.090000</td>\n",
       "      <td>20.043877</td>\n",
       "      <td>NaN</td>\n",
       "    </tr>\n",
       "  </tbody>\n",
       "</table>\n",
       "<p>5 rows × 506 columns</p>\n",
       "</div>"
      ],
      "text/plain": [
       "         Date          A       AAL        AAP       AAPL  ABBV        ABC  \\\n",
       "0  2011-07-14  30.979713  7.202545  54.759651  10.987410   NaN  36.020863   \n",
       "1  2011-07-15  30.816076  7.013996  53.733215  11.206989   NaN  35.824635   \n",
       "2  2011-07-18  29.755713  6.627473  53.084412  11.479702   NaN  35.150635   \n",
       "3  2011-07-19  30.724440  6.608617  53.733215  11.573372   NaN  35.705189   \n",
       "4  2011-07-20  30.711353  6.504916  53.297459  11.882014   NaN  35.619877   \n",
       "\n",
       "        ABMD        ABT        ACN  ...        XEL       XLNX        XOM  \\\n",
       "0  16.340000  20.749693  49.920250  ...  17.142260  27.133936  55.470863   \n",
       "1  16.389999  20.702850  49.813557  ...  17.142260  27.093481  55.983479   \n",
       "2  16.400000  20.507687  49.222694  ...  16.949644  26.931633  55.747433   \n",
       "3  17.100000  20.644304  50.552151  ...  17.113718  27.263426  56.408432   \n",
       "4  16.680000  20.453043  50.379814  ...  17.292061  26.850712  56.185863   \n",
       "\n",
       "        XRAY  XYL        YUM        ZBH       ZBRA       ZION  ZTS  \n",
       "0  36.702957  NaN  33.548767  58.876469  41.520000  20.009031  NaN  \n",
       "1  36.806068  NaN  33.036930  58.710533  41.810001  20.183245  NaN  \n",
       "2  36.243568  NaN  32.644135  58.286407  42.060001  19.852234  NaN  \n",
       "3  36.965450  NaN  32.828632  58.553772  42.730000  19.721571  NaN  \n",
       "4  36.581070  NaN  32.340599  58.876469  42.090000  20.043877  NaN  \n",
       "\n",
       "[5 rows x 506 columns]"
      ]
     },
     "execution_count": 3,
     "metadata": {},
     "output_type": "execute_result"
    }
   ],
   "source": [
    "train = pd.read_csv(\"data/train.csv\")\n",
    "train.head(5)"
   ]
  },
  {
   "cell_type": "code",
   "execution_count": 4,
   "metadata": {},
   "outputs": [],
   "source": [
    "col_nan = train.isnull().sum(axis=0)\n",
    "row_nan = train.isnull().sum(axis=1)"
   ]
  },
  {
   "cell_type": "code",
   "execution_count": 14,
   "metadata": {},
   "outputs": [
    {
     "data": {
      "image/png": "[encoded data removed]",
      "text/plain": [
       "<Figure size 432x288 with 1 Axes>"
      ]
     },
     "metadata": {
      "needs_background": "light"
     },
     "output_type": "display_data"
    }
   ],
   "source": [
    "col_nan[col_nan > 3].plot.bar()\n",
    "plt.show()"
   ]
  },
  {
   "cell_type": "code",
   "execution_count": 12,
   "metadata": {},
   "outputs": [
    {
     "data": {
      "text/plain": [
       "0    3\n",
       "dtype: int64"
      ]
     },
     "execution_count": 12,
     "metadata": {},
     "output_type": "execute_result"
    }
   ],
   "source": [
    "col_nan.mode()"
   ]
  },
  {
   "cell_type": "code",
   "execution_count": 15,
   "metadata": {},
   "outputs": [
    {
     "data": {
      "image/png": "[encoded data removed]",
      "text/plain": [
       "<Figure size 432x288 with 1 Axes>"
      ]
     },
     "metadata": {
      "needs_background": "light"
     },
     "output_type": "display_data"
    }
   ],
   "source": [
    "row_nan.plot.line()\n",
    "plt.show()"
   ]
  },
  {
   "cell_type": "code",
   "execution_count": 19,
   "metadata": {},
   "outputs": [
    {
     "data": {
      "text/plain": [
       "327     2012-10-29\n",
       "1629    2018-01-01\n",
       "1864    2018-12-05\n",
       "Name: Date, dtype: object"
      ]
     },
     "execution_count": 19,
     "metadata": {},
     "output_type": "execute_result"
    }
   ],
   "source": [
    "t = list(row_nan[row_nan > 50].index)\n",
    "train.loc[[327, 1629, 1864]]['Date']"
   ]
  },
  {
   "cell_type": "code",
   "execution_count": 20,
   "metadata": {},
   "outputs": [],
   "source": [
    "train.drop(t, inplace=True)"
   ]
  },
  {
   "cell_type": "code",
   "execution_count": 21,
   "metadata": {},
   "outputs": [
    {
     "data": {
      "image/png": "[encoded data removed]",
      "text/plain": [
       "<Figure size 432x288 with 1 Axes>"
      ]
     },
     "metadata": {
      "needs_background": "light"
     },
     "output_type": "display_data"
    }
   ],
   "source": [
    "row_nan = train.isnull().sum(axis=1)\n",
    "row_nan.plot.line()\n",
    "plt.show()"
   ]
  },
  {
   "cell_type": "code",
   "execution_count": null,
   "metadata": {},
   "outputs": [],
   "source": [
    "symbols = train.columns[1:]\n",
    "for s in symbols:\n",
    "    temp = train[[\"Date\", s]]\n",
    "    trade_dates = temp[temp[s].notna()][\"Date\"]\n",
    "    last_trade = trade_dates.iloc[-1]"
   ]
  }
 ],
 "metadata": {
  "kernelspec": {
   "display_name": "Python 3",
   "language": "python",
   "name": "python3"
  },
  "language_info": {
   "codemirror_mode": {
    "name": "ipython",
    "version": 3
   },
   "file_extension": ".py",
   "mimetype": "text/x-python",
   "name": "python",
   "nbconvert_exporter": "python",
   "pygments_lexer": "ipython3",
   "version": "3.7.1"
  }
 },
 "nbformat": 4,
 "nbformat_minor": 2
}
